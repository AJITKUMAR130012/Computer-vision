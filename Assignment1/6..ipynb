{
 "cells": [
  {
   "cell_type": "code",
   "execution_count": null,
   "id": "8bce097a",
   "metadata": {},
   "outputs": [],
   "source": [
    "import numpy as np\n",
    "import pandas as pd\n",
    "import matplotlib.pyplot as plt\n",
    "import os\n",
    "import glob\n",
    "import matplotlib.pyplot as plt\n",
    "import cv2\n",
    "import pickle\n",
    "import random\n",
    "from sklearn.model_selection import train_test_split"
   ]
  },
  {
   "cell_type": "markdown",
   "id": "6096623f",
   "metadata": {},
   "source": [
    "1. Traverse the all image\n",
    "2. Convert it into the gray scale imge\n",
    "3. Then convert it into the binary image\n",
    "4. Then apply the projection profile method horizontally\n",
    "5. At last apply the alogorithm to classify them."
   ]
  },
  {
   "cell_type": "code",
   "execution_count": 4,
   "id": "e7c1e38e",
   "metadata": {},
   "outputs": [],
   "source": [
    "def project_profile_horizontal(thresh1):\n",
    "    #thresh1=cv2.resize(thresh1,(256,256))\n",
    "#      for i in range(28):\n",
    "#         for j in range(28):\n",
    "#             if thresh1[i][j]==0:\n",
    "#                 thresh1[i][j]=1\n",
    "#             elif thresh1[i][j]==255:\n",
    "#                 thresh1[i][j]=0\n",
    "    thresh1[thresh1==0]=1\n",
    "    thresh1[thresh1==255]=0\n",
    "    horizontal_projection = np.sum(thresh1, axis = 1)\n",
    "    \n",
    "            \n",
    "    "
   ]
  },
  {
   "cell_type": "code",
   "execution_count": 5,
   "id": "3da61fbd",
   "metadata": {},
   "outputs": [],
   "source": [
    "dir = \"./Dataset/6\"\n",
    "cv_img = []\n",
    "categories=['0','1']\n",
    "for category in categories:\n",
    "    path=os.path.join(dir,category)\n",
    "    label=categories.index(category)\n",
    "    for img in os.listdir(path):\n",
    "        img_path=os.path.join(path,img)\n",
    "        # Reading the image in grayscale\n",
    "        digit_img=cv2.imread(img_path,0)\n",
    "        #print(img.shape)\n",
    "        # converting the image to binary image\n",
    "#         plt.imshow(digit_img)\n",
    "#         break\n",
    "        ret, thresh1 = cv2.threshold(digit_img, 120, 255, cv2.THRESH_BINARY)\n",
    "        #plt.imshow(img)\n",
    "        # project profile horizontal\n",
    "#         plt.imshow(thresh1)\n",
    "#         plt.show()\n",
    "        #performing the projection_profile\n",
    "        project_profile_horizontal(thresh1)\n",
    "        cv_img.append([thresh1,label])\n",
    "#     break\n",
    "\n",
    "    "
   ]
  },
  {
   "cell_type": "code",
   "execution_count": 6,
   "id": "0474fa11",
   "metadata": {},
   "outputs": [
    {
     "data": {
      "text/plain": [
       "100"
      ]
     },
     "execution_count": 6,
     "metadata": {},
     "output_type": "execute_result"
    }
   ],
   "source": [
    "len(cv_img)"
   ]
  },
  {
   "cell_type": "code",
   "execution_count": 7,
   "id": "90c64c0c",
   "metadata": {},
   "outputs": [],
   "source": [
    "pick_in=open('data.pickle','wb')\n",
    "pickle.dump(cv_img,pick_in)\n",
    "pick_in.close()"
   ]
  },
  {
   "cell_type": "code",
   "execution_count": 8,
   "id": "c9534f4a",
   "metadata": {},
   "outputs": [],
   "source": [
    "pick_in=open('data.pickle','rb')\n",
    "data=pickle.load(pick_in)\n",
    "pick_in.close()"
   ]
  },
  {
   "cell_type": "code",
   "execution_count": null,
   "id": "459f532d",
   "metadata": {},
   "outputs": [],
   "source": [
    "#data"
   ]
  },
  {
   "cell_type": "code",
   "execution_count": 10,
   "id": "a9812921",
   "metadata": {},
   "outputs": [],
   "source": [
    "random.shuffle(data)\n",
    "features=[]\n",
    "labels=[]\n",
    "for feature, label in data:\n",
    "    features.append(feature)\n",
    "    labels.append(label)"
   ]
  },
  {
   "cell_type": "code",
   "execution_count": 12,
   "id": "f04b0f59",
   "metadata": {},
   "outputs": [],
   "source": [
    "# print(features)\n",
    "# print(labels)"
   ]
  },
  {
   "cell_type": "code",
   "execution_count": null,
   "id": "5420d91a",
   "metadata": {},
   "outputs": [],
   "source": []
  },
  {
   "cell_type": "code",
   "execution_count": null,
   "id": "0f5ec286",
   "metadata": {},
   "outputs": [],
   "source": []
  },
  {
   "cell_type": "code",
   "execution_count": null,
   "id": "f2d2245f",
   "metadata": {},
   "outputs": [],
   "source": []
  },
  {
   "cell_type": "code",
   "execution_count": null,
   "id": "c18ae021",
   "metadata": {},
   "outputs": [],
   "source": []
  }
 ],
 "metadata": {
  "kernelspec": {
   "display_name": "openCv",
   "language": "python",
   "name": "opencv"
  },
  "language_info": {
   "codemirror_mode": {
    "name": "ipython",
    "version": 3
   },
   "file_extension": ".py",
   "mimetype": "text/x-python",
   "name": "python",
   "nbconvert_exporter": "python",
   "pygments_lexer": "ipython3",
   "version": "3.9.12"
  }
 },
 "nbformat": 4,
 "nbformat_minor": 5
}
