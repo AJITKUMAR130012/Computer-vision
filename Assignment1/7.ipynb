{
 "cells": [
  {
   "cell_type": "code",
   "execution_count": null,
   "id": "036ee6f3",
   "metadata": {},
   "outputs": [],
   "source": [
    "import numpy as np\n"
   ]
  }
 ],
 "metadata": {
  "kernelspec": {
   "display_name": "openCv",
   "language": "python",
   "name": "opencv"
  }
 },
 "nbformat": 4,
 "nbformat_minor": 5
}
