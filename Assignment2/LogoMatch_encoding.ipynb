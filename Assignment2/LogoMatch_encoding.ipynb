{
 "cells": [
  {
   "cell_type": "code",
   "execution_count": 80,
   "metadata": {
    "colab": {
     "base_uri": "https://localhost:8080/"
    },
    "id": "CmG8exuuT0FG",
    "outputId": "f15d9faf-16e9-46d6-ac90-e30fc80e6f0d"
   },
   "outputs": [
    {
     "name": "stdout",
     "output_type": "stream",
     "text": [
      "Cloning into 'Computer-vision'...\n",
      "remote: Enumerating objects: 265, done.\u001b[K\n",
      "remote: Counting objects: 100% (265/265), done.\u001b[K\n",
      "remote: Compressing objects: 100% (242/242), done.\u001b[K\n",
      "remote: Total 265 (delta 19), reused 250 (delta 13), pack-reused 0\u001b[K\n",
      "Receiving objects: 100% (265/265), 12.57 MiB | 22.26 MiB/s, done.\n",
      "Resolving deltas: 100% (19/19), done.\n"
     ]
    }
   ],
   "source": [
    "!git clone https://github.com/AJITKUMAR130012/Computer-vision.git"
   ]
  },
  {
   "cell_type": "code",
   "execution_count": 81,
   "metadata": {
    "colab": {
     "base_uri": "https://localhost:8080/"
    },
    "id": "rAnXdqZQUCTH",
    "outputId": "3b540fd3-dc74-4dca-acf7-3dcc69efddc0"
   },
   "outputs": [
    {
     "name": "stdout",
     "output_type": "stream",
     "text": [
      "best_model.pt\t database.csv  __pycache__  utils.py\n",
      "Computer-vision  Dataset       Question\n"
     ]
    }
   ],
   "source": [
    "!ls"
   ]
  },
  {
   "cell_type": "code",
   "execution_count": 82,
   "metadata": {
    "colab": {
     "base_uri": "https://localhost:8080/"
    },
    "id": "llc9SyrJVZoR",
    "outputId": "65f1e472-12ef-423f-f512-9d4007044cf3"
   },
   "outputs": [
    {
     "name": "stdout",
     "output_type": "stream",
     "text": [
      "/content/Computer-vision/Assignment2/Computer-vision\n"
     ]
    }
   ],
   "source": [
    "cd Computer-vision/"
   ]
  },
  {
   "cell_type": "code",
   "execution_count": 83,
   "metadata": {
    "colab": {
     "base_uri": "https://localhost:8080/"
    },
    "id": "dbsmkjnTVd3I",
    "outputId": "4839ec5e-6cbe-4344-8caf-34626b09df9d"
   },
   "outputs": [
    {
     "name": "stdout",
     "output_type": "stream",
     "text": [
      "\u001b[0m\u001b[01;34mAssignment1\u001b[0m/  \u001b[01;34mAssignment2\u001b[0m/  README.md\n"
     ]
    }
   ],
   "source": [
    "ls"
   ]
  },
  {
   "cell_type": "code",
   "execution_count": 84,
   "metadata": {
    "colab": {
     "base_uri": "https://localhost:8080/"
    },
    "id": "BJ11RZDQVfdb",
    "outputId": "9121d65c-9bd3-4c5d-d82a-1f9a6ec7f82a"
   },
   "outputs": [
    {
     "name": "stdout",
     "output_type": "stream",
     "text": [
      "/content/Computer-vision/Assignment2/Computer-vision/Assignment2\n"
     ]
    }
   ],
   "source": [
    "cd Assignment2"
   ]
  },
  {
   "cell_type": "code",
   "execution_count": 85,
   "metadata": {
    "colab": {
     "base_uri": "https://localhost:8080/"
    },
    "id": "Xo9C_D9NVk_E",
    "outputId": "cd0ac497-3589-4839-9209-a709807d4f56"
   },
   "outputs": [
    {
     "name": "stdout",
     "output_type": "stream",
     "text": [
      "\u001b[0m\u001b[01;34mDataset\u001b[0m/  \u001b[01;34mQuestion\u001b[0m/\n"
     ]
    }
   ],
   "source": [
    "ls"
   ]
  },
  {
   "cell_type": "code",
   "execution_count": 86,
   "metadata": {
    "id": "v1sV-q-mVoUU"
   },
   "outputs": [],
   "source": [
    "import os\n",
    "import random\n",
    "import pandas as pd\n",
    "import numpy as np"
   ]
  },
  {
   "cell_type": "code",
   "execution_count": 87,
   "metadata": {
    "id": "i9690X_AVu7Q"
   },
   "outputs": [],
   "source": [
    "path=\"./Dataset/Problem-1/logo matching/Ex1/logos/\""
   ]
  },
  {
   "cell_type": "code",
   "execution_count": 88,
   "metadata": {
    "colab": {
     "base_uri": "https://localhost:8080/"
    },
    "id": "wYsOwabeVxMA",
    "outputId": "c12501d7-fdab-4cc6-fd7a-6be2ac5e1074"
   },
   "outputs": [
    {
     "name": "stdout",
     "output_type": "stream",
     "text": [
      "10\n"
     ]
    }
   ],
   "source": [
    "l=os.listdir(path)\n",
    "print(len(l))"
   ]
  },
  {
   "cell_type": "code",
   "execution_count": 89,
   "metadata": {
    "colab": {
     "base_uri": "https://localhost:8080/"
    },
    "id": "hDb1Ni96WOg4",
    "outputId": "274fb6e9-0652-4706-c516-3b44ad6fd9b7"
   },
   "outputs": [
    {
     "name": "stdout",
     "output_type": "stream",
     "text": [
      "30\n"
     ]
    },
    {
     "data": {
      "text/plain": [
       "['levis.jpg',\n",
       " 'levis.jpg',\n",
       " 'nescafe.jpg',\n",
       " 'kfc.jpg',\n",
       " 'kfc.jpg',\n",
       " 'nescafe.jpg',\n",
       " 'nescafe.jpg',\n",
       " 'nescafe.jpg',\n",
       " 'nescafe.jpg',\n",
       " 'tacobell.jpg',\n",
       " 'tacobell.jpg',\n",
       " 'hp.jpg',\n",
       " 'umbro.jpg',\n",
       " 'umbro.jpg',\n",
       " 'hp.jpg',\n",
       " 'lg.jpg',\n",
       " 'lg.jpg',\n",
       " 'umbro.jpg',\n",
       " 'shell.jpg',\n",
       " 'shell.jpg',\n",
       " 'spar.jpg',\n",
       " 'spar.jpg',\n",
       " 'spar.jpg',\n",
       " 'spar.jpg',\n",
       " 'hp.jpg',\n",
       " 'hp.jpg',\n",
       " 'kfc.jpg',\n",
       " 'tommyhilfiger.jpg',\n",
       " 'tommyhilfiger.jpg',\n",
       " 'lg.jpg']"
      ]
     },
     "execution_count": 89,
     "metadata": {},
     "output_type": "execute_result"
    }
   ],
   "source": [
    "m=[]\n",
    "for i in range(len(l)):\n",
    "    m.append(l[i])\n",
    "    m.append(l[i])\n",
    "k=0\n",
    "for i in range(len(l)):\n",
    "    id=random.randint(0, len(l)-1)\n",
    "    m.insert(2*i+2+k, l[id])\n",
    "    k=k+1\n",
    "\n",
    "print(len(m))\n",
    "m"
   ]
  },
  {
   "cell_type": "code",
   "execution_count": 90,
   "metadata": {
    "id": "7WXyWPNgWSPJ"
   },
   "outputs": [],
   "source": [
    "def to_matrix(l, n):\n",
    "    return [l[i:i+n] for i in range(0, len(l), n)]"
   ]
  },
  {
   "cell_type": "code",
   "execution_count": 91,
   "metadata": {
    "id": "JW5w_eDPWf_Z"
   },
   "outputs": [],
   "source": [
    "m=to_matrix(m,3)"
   ]
  },
  {
   "cell_type": "code",
   "execution_count": 92,
   "metadata": {
    "colab": {
     "base_uri": "https://localhost:8080/"
    },
    "id": "KBTWp04nWiY0",
    "outputId": "87a3fcf0-eb89-4cdb-e78a-a1d6f91ac7ea"
   },
   "outputs": [
    {
     "data": {
      "text/plain": [
       "dtype('<U17')"
      ]
     },
     "execution_count": 92,
     "metadata": {},
     "output_type": "execute_result"
    }
   ],
   "source": [
    "c=np.array(m)\n",
    "c.dtype"
   ]
  },
  {
   "cell_type": "code",
   "execution_count": 93,
   "metadata": {
    "colab": {
     "base_uri": "https://localhost:8080/"
    },
    "id": "_P8TjYjKWk6H",
    "outputId": "cf00e923-827f-4587-8b8c-8d183bf70bf0"
   },
   "outputs": [
    {
     "data": {
      "text/plain": [
       "(10, 3)"
      ]
     },
     "execution_count": 93,
     "metadata": {},
     "output_type": "execute_result"
    }
   ],
   "source": [
    "c.shape"
   ]
  },
  {
   "cell_type": "code",
   "execution_count": 94,
   "metadata": {
    "id": "o3hm7rEUWoKx"
   },
   "outputs": [],
   "source": [
    "df=pd.DataFrame(data=c,columns=['Anchor','Positive','Negative'])"
   ]
  },
  {
   "cell_type": "code",
   "execution_count": 95,
   "metadata": {
    "colab": {
     "base_uri": "https://localhost:8080/",
     "height": 206
    },
    "id": "edRSvVB8Wsmc",
    "outputId": "6d270baf-923d-4203-d8cf-a3d1818d9330"
   },
   "outputs": [
    {
     "data": {
      "text/html": [
       "\n",
       "  <div id=\"df-a30adc10-00c6-4ffc-b325-b859824bf04c\">\n",
       "    <div class=\"colab-df-container\">\n",
       "      <div>\n",
       "<style scoped>\n",
       "    .dataframe tbody tr th:only-of-type {\n",
       "        vertical-align: middle;\n",
       "    }\n",
       "\n",
       "    .dataframe tbody tr th {\n",
       "        vertical-align: top;\n",
       "    }\n",
       "\n",
       "    .dataframe thead th {\n",
       "        text-align: right;\n",
       "    }\n",
       "</style>\n",
       "<table border=\"1\" class=\"dataframe\">\n",
       "  <thead>\n",
       "    <tr style=\"text-align: right;\">\n",
       "      <th></th>\n",
       "      <th>Anchor</th>\n",
       "      <th>Positive</th>\n",
       "      <th>Negative</th>\n",
       "    </tr>\n",
       "  </thead>\n",
       "  <tbody>\n",
       "    <tr>\n",
       "      <th>1</th>\n",
       "      <td>kfc.jpg</td>\n",
       "      <td>kfc.jpg</td>\n",
       "      <td>nescafe.jpg</td>\n",
       "    </tr>\n",
       "    <tr>\n",
       "      <th>6</th>\n",
       "      <td>shell.jpg</td>\n",
       "      <td>shell.jpg</td>\n",
       "      <td>spar.jpg</td>\n",
       "    </tr>\n",
       "    <tr>\n",
       "      <th>3</th>\n",
       "      <td>tacobell.jpg</td>\n",
       "      <td>tacobell.jpg</td>\n",
       "      <td>hp.jpg</td>\n",
       "    </tr>\n",
       "    <tr>\n",
       "      <th>0</th>\n",
       "      <td>levis.jpg</td>\n",
       "      <td>levis.jpg</td>\n",
       "      <td>nescafe.jpg</td>\n",
       "    </tr>\n",
       "    <tr>\n",
       "      <th>8</th>\n",
       "      <td>hp.jpg</td>\n",
       "      <td>hp.jpg</td>\n",
       "      <td>kfc.jpg</td>\n",
       "    </tr>\n",
       "  </tbody>\n",
       "</table>\n",
       "</div>\n",
       "      <button class=\"colab-df-convert\" onclick=\"convertToInteractive('df-a30adc10-00c6-4ffc-b325-b859824bf04c')\"\n",
       "              title=\"Convert this dataframe to an interactive table.\"\n",
       "              style=\"display:none;\">\n",
       "        \n",
       "  <svg xmlns=\"http://www.w3.org/2000/svg\" height=\"24px\"viewBox=\"0 0 24 24\"\n",
       "       width=\"24px\">\n",
       "    <path d=\"M0 0h24v24H0V0z\" fill=\"none\"/>\n",
       "    <path d=\"M18.56 5.44l.94 2.06.94-2.06 2.06-.94-2.06-.94-.94-2.06-.94 2.06-2.06.94zm-11 1L8.5 8.5l.94-2.06 2.06-.94-2.06-.94L8.5 2.5l-.94 2.06-2.06.94zm10 10l.94 2.06.94-2.06 2.06-.94-2.06-.94-.94-2.06-.94 2.06-2.06.94z\"/><path d=\"M17.41 7.96l-1.37-1.37c-.4-.4-.92-.59-1.43-.59-.52 0-1.04.2-1.43.59L10.3 9.45l-7.72 7.72c-.78.78-.78 2.05 0 2.83L4 21.41c.39.39.9.59 1.41.59.51 0 1.02-.2 1.41-.59l7.78-7.78 2.81-2.81c.8-.78.8-2.07 0-2.86zM5.41 20L4 18.59l7.72-7.72 1.47 1.35L5.41 20z\"/>\n",
       "  </svg>\n",
       "      </button>\n",
       "      \n",
       "  <style>\n",
       "    .colab-df-container {\n",
       "      display:flex;\n",
       "      flex-wrap:wrap;\n",
       "      gap: 12px;\n",
       "    }\n",
       "\n",
       "    .colab-df-convert {\n",
       "      background-color: #E8F0FE;\n",
       "      border: none;\n",
       "      border-radius: 50%;\n",
       "      cursor: pointer;\n",
       "      display: none;\n",
       "      fill: #1967D2;\n",
       "      height: 32px;\n",
       "      padding: 0 0 0 0;\n",
       "      width: 32px;\n",
       "    }\n",
       "\n",
       "    .colab-df-convert:hover {\n",
       "      background-color: #E2EBFA;\n",
       "      box-shadow: 0px 1px 2px rgba(60, 64, 67, 0.3), 0px 1px 3px 1px rgba(60, 64, 67, 0.15);\n",
       "      fill: #174EA6;\n",
       "    }\n",
       "\n",
       "    [theme=dark] .colab-df-convert {\n",
       "      background-color: #3B4455;\n",
       "      fill: #D2E3FC;\n",
       "    }\n",
       "\n",
       "    [theme=dark] .colab-df-convert:hover {\n",
       "      background-color: #434B5C;\n",
       "      box-shadow: 0px 1px 3px 1px rgba(0, 0, 0, 0.15);\n",
       "      filter: drop-shadow(0px 1px 2px rgba(0, 0, 0, 0.3));\n",
       "      fill: #FFFFFF;\n",
       "    }\n",
       "  </style>\n",
       "\n",
       "      <script>\n",
       "        const buttonEl =\n",
       "          document.querySelector('#df-a30adc10-00c6-4ffc-b325-b859824bf04c button.colab-df-convert');\n",
       "        buttonEl.style.display =\n",
       "          google.colab.kernel.accessAllowed ? 'block' : 'none';\n",
       "\n",
       "        async function convertToInteractive(key) {\n",
       "          const element = document.querySelector('#df-a30adc10-00c6-4ffc-b325-b859824bf04c');\n",
       "          const dataTable =\n",
       "            await google.colab.kernel.invokeFunction('convertToInteractive',\n",
       "                                                     [key], {});\n",
       "          if (!dataTable) return;\n",
       "\n",
       "          const docLinkHtml = 'Like what you see? Visit the ' +\n",
       "            '<a target=\"_blank\" href=https://colab.research.google.com/notebooks/data_table.ipynb>data table notebook</a>'\n",
       "            + ' to learn more about interactive tables.';\n",
       "          element.innerHTML = '';\n",
       "          dataTable['output_type'] = 'display_data';\n",
       "          await google.colab.output.renderOutput(dataTable, element);\n",
       "          const docLink = document.createElement('div');\n",
       "          docLink.innerHTML = docLinkHtml;\n",
       "          element.appendChild(docLink);\n",
       "        }\n",
       "      </script>\n",
       "    </div>\n",
       "  </div>\n",
       "  "
      ],
      "text/plain": [
       "         Anchor      Positive     Negative\n",
       "1       kfc.jpg       kfc.jpg  nescafe.jpg\n",
       "6     shell.jpg     shell.jpg     spar.jpg\n",
       "3  tacobell.jpg  tacobell.jpg       hp.jpg\n",
       "0     levis.jpg     levis.jpg  nescafe.jpg\n",
       "8        hp.jpg        hp.jpg      kfc.jpg"
      ]
     },
     "execution_count": 95,
     "metadata": {},
     "output_type": "execute_result"
    }
   ],
   "source": [
    "df.sample(5)"
   ]
  },
  {
   "cell_type": "code",
   "execution_count": 96,
   "metadata": {
    "colab": {
     "base_uri": "https://localhost:8080/"
    },
    "id": "bDpUzeRcXpbC",
    "outputId": "7450f517-097a-4763-8cc2-daca69473f79"
   },
   "outputs": [
    {
     "name": "stdout",
     "output_type": "stream",
     "text": [
      "Looking in indexes: https://pypi.org/simple, https://us-python.pkg.dev/colab-wheels/public/simple/\n",
      "Requirement already satisfied: segmentation-models-pytorch in /usr/local/lib/python3.8/dist-packages (0.3.2)\n",
      "Requirement already satisfied: pretrainedmodels==0.7.4 in /usr/local/lib/python3.8/dist-packages (from segmentation-models-pytorch) (0.7.4)\n",
      "Requirement already satisfied: torchvision>=0.5.0 in /usr/local/lib/python3.8/dist-packages (from segmentation-models-pytorch) (0.14.1+cu116)\n",
      "Requirement already satisfied: pillow in /usr/local/lib/python3.8/dist-packages (from segmentation-models-pytorch) (8.4.0)\n",
      "Requirement already satisfied: efficientnet-pytorch==0.7.1 in /usr/local/lib/python3.8/dist-packages (from segmentation-models-pytorch) (0.7.1)\n",
      "Requirement already satisfied: tqdm in /usr/local/lib/python3.8/dist-packages (from segmentation-models-pytorch) (4.64.1)\n",
      "Requirement already satisfied: timm==0.6.12 in /usr/local/lib/python3.8/dist-packages (from segmentation-models-pytorch) (0.6.12)\n",
      "Requirement already satisfied: torch in /usr/local/lib/python3.8/dist-packages (from efficientnet-pytorch==0.7.1->segmentation-models-pytorch) (1.13.1+cu116)\n",
      "Requirement already satisfied: munch in /usr/local/lib/python3.8/dist-packages (from pretrainedmodels==0.7.4->segmentation-models-pytorch) (2.5.0)\n",
      "Requirement already satisfied: pyyaml in /usr/local/lib/python3.8/dist-packages (from timm==0.6.12->segmentation-models-pytorch) (6.0)\n",
      "Requirement already satisfied: huggingface-hub in /usr/local/lib/python3.8/dist-packages (from timm==0.6.12->segmentation-models-pytorch) (0.12.1)\n",
      "Requirement already satisfied: requests in /usr/local/lib/python3.8/dist-packages (from torchvision>=0.5.0->segmentation-models-pytorch) (2.25.1)\n",
      "Requirement already satisfied: numpy in /usr/local/lib/python3.8/dist-packages (from torchvision>=0.5.0->segmentation-models-pytorch) (1.22.4)\n",
      "Requirement already satisfied: typing-extensions in /usr/local/lib/python3.8/dist-packages (from torchvision>=0.5.0->segmentation-models-pytorch) (4.5.0)\n",
      "Requirement already satisfied: filelock in /usr/local/lib/python3.8/dist-packages (from huggingface-hub->timm==0.6.12->segmentation-models-pytorch) (3.9.0)\n",
      "Requirement already satisfied: packaging>=20.9 in /usr/local/lib/python3.8/dist-packages (from huggingface-hub->timm==0.6.12->segmentation-models-pytorch) (23.0)\n",
      "Requirement already satisfied: six in /usr/local/lib/python3.8/dist-packages (from munch->pretrainedmodels==0.7.4->segmentation-models-pytorch) (1.15.0)\n",
      "Requirement already satisfied: idna<3,>=2.5 in /usr/local/lib/python3.8/dist-packages (from requests->torchvision>=0.5.0->segmentation-models-pytorch) (2.10)\n",
      "Requirement already satisfied: urllib3<1.27,>=1.21.1 in /usr/local/lib/python3.8/dist-packages (from requests->torchvision>=0.5.0->segmentation-models-pytorch) (1.26.14)\n",
      "Requirement already satisfied: certifi>=2017.4.17 in /usr/local/lib/python3.8/dist-packages (from requests->torchvision>=0.5.0->segmentation-models-pytorch) (2022.12.7)\n",
      "Requirement already satisfied: chardet<5,>=3.0.2 in /usr/local/lib/python3.8/dist-packages (from requests->torchvision>=0.5.0->segmentation-models-pytorch) (4.0.0)\n",
      "Looking in indexes: https://pypi.org/simple, https://us-python.pkg.dev/colab-wheels/public/simple/\n",
      "Collecting git+https://github.com/albumentations-team/albumentations\n",
      "  Cloning https://github.com/albumentations-team/albumentations to /tmp/pip-req-build-ca1qug20\n",
      "  Running command git clone --filter=blob:none --quiet https://github.com/albumentations-team/albumentations /tmp/pip-req-build-ca1qug20\n",
      "  Resolved https://github.com/albumentations-team/albumentations to commit cb372736a0b7da362e5c2e23f3cce4304ddac402\n",
      "  Preparing metadata (setup.py) ... \u001b[?25l\u001b[?25hdone\n",
      "Requirement already satisfied: numpy>=1.11.1 in /usr/local/lib/python3.8/dist-packages (from albumentations==1.3.0) (1.22.4)\n",
      "Requirement already satisfied: scipy>=1.1.0 in /usr/local/lib/python3.8/dist-packages (from albumentations==1.3.0) (1.7.3)\n",
      "Requirement already satisfied: scikit-image>=0.16.1 in /usr/local/lib/python3.8/dist-packages (from albumentations==1.3.0) (0.18.3)\n",
      "Requirement already satisfied: PyYAML in /usr/local/lib/python3.8/dist-packages (from albumentations==1.3.0) (6.0)\n",
      "Requirement already satisfied: qudida>=0.0.4 in /usr/local/lib/python3.8/dist-packages (from albumentations==1.3.0) (0.0.4)\n",
      "Requirement already satisfied: opencv-python>=4.1.1 in /usr/local/lib/python3.8/dist-packages (from albumentations==1.3.0) (4.6.0.66)\n",
      "Requirement already satisfied: typing-extensions in /usr/local/lib/python3.8/dist-packages (from qudida>=0.0.4->albumentations==1.3.0) (4.5.0)\n",
      "Requirement already satisfied: opencv-python-headless>=4.0.1 in /usr/local/lib/python3.8/dist-packages (from qudida>=0.0.4->albumentations==1.3.0) (4.7.0.72)\n",
      "Requirement already satisfied: scikit-learn>=0.19.1 in /usr/local/lib/python3.8/dist-packages (from qudida>=0.0.4->albumentations==1.3.0) (1.0.2)\n",
      "Requirement already satisfied: tifffile>=2019.7.26 in /usr/local/lib/python3.8/dist-packages (from scikit-image>=0.16.1->albumentations==1.3.0) (2023.2.3)\n",
      "Requirement already satisfied: PyWavelets>=1.1.1 in /usr/local/lib/python3.8/dist-packages (from scikit-image>=0.16.1->albumentations==1.3.0) (1.4.1)\n",
      "Requirement already satisfied: matplotlib!=3.0.0,>=2.0.0 in /usr/local/lib/python3.8/dist-packages (from scikit-image>=0.16.1->albumentations==1.3.0) (3.5.3)\n",
      "Requirement already satisfied: pillow!=7.1.0,!=7.1.1,>=4.3.0 in /usr/local/lib/python3.8/dist-packages (from scikit-image>=0.16.1->albumentations==1.3.0) (8.4.0)\n",
      "Requirement already satisfied: imageio>=2.3.0 in /usr/local/lib/python3.8/dist-packages (from scikit-image>=0.16.1->albumentations==1.3.0) (2.9.0)\n",
      "Requirement already satisfied: networkx>=2.0 in /usr/local/lib/python3.8/dist-packages (from scikit-image>=0.16.1->albumentations==1.3.0) (3.0)\n",
      "Requirement already satisfied: cycler>=0.10 in /usr/local/lib/python3.8/dist-packages (from matplotlib!=3.0.0,>=2.0.0->scikit-image>=0.16.1->albumentations==1.3.0) (0.11.0)\n",
      "Requirement already satisfied: python-dateutil>=2.7 in /usr/local/lib/python3.8/dist-packages (from matplotlib!=3.0.0,>=2.0.0->scikit-image>=0.16.1->albumentations==1.3.0) (2.8.2)\n",
      "Requirement already satisfied: fonttools>=4.22.0 in /usr/local/lib/python3.8/dist-packages (from matplotlib!=3.0.0,>=2.0.0->scikit-image>=0.16.1->albumentations==1.3.0) (4.38.0)\n",
      "Requirement already satisfied: packaging>=20.0 in /usr/local/lib/python3.8/dist-packages (from matplotlib!=3.0.0,>=2.0.0->scikit-image>=0.16.1->albumentations==1.3.0) (23.0)\n",
      "Requirement already satisfied: kiwisolver>=1.0.1 in /usr/local/lib/python3.8/dist-packages (from matplotlib!=3.0.0,>=2.0.0->scikit-image>=0.16.1->albumentations==1.3.0) (1.4.4)\n",
      "Requirement already satisfied: pyparsing>=2.2.1 in /usr/local/lib/python3.8/dist-packages (from matplotlib!=3.0.0,>=2.0.0->scikit-image>=0.16.1->albumentations==1.3.0) (3.0.9)\n",
      "Requirement already satisfied: threadpoolctl>=2.0.0 in /usr/local/lib/python3.8/dist-packages (from scikit-learn>=0.19.1->qudida>=0.0.4->albumentations==1.3.0) (3.1.0)\n",
      "Requirement already satisfied: joblib>=0.11 in /usr/local/lib/python3.8/dist-packages (from scikit-learn>=0.19.1->qudida>=0.0.4->albumentations==1.3.0) (1.2.0)\n",
      "Requirement already satisfied: six>=1.5 in /usr/local/lib/python3.8/dist-packages (from python-dateutil>=2.7->matplotlib!=3.0.0,>=2.0.0->scikit-image>=0.16.1->albumentations==1.3.0) (1.15.0)\n",
      "Looking in indexes: https://pypi.org/simple, https://us-python.pkg.dev/colab-wheels/public/simple/\n",
      "Requirement already satisfied: opencv-contrib-python in /usr/local/lib/python3.8/dist-packages (4.7.0.72)\n",
      "Requirement already satisfied: numpy>=1.17.3 in /usr/local/lib/python3.8/dist-packages (from opencv-contrib-python) (1.22.4)\n"
     ]
    }
   ],
   "source": [
    "!pip install segmentation-models-pytorch\n",
    "!pip install -U git+https://github.com/albumentations-team/albumentations\n",
    "!pip install --upgrade opencv-contrib-python"
   ]
  },
  {
   "cell_type": "code",
   "execution_count": 97,
   "metadata": {
    "id": "z1EbXAqPXh8d"
   },
   "outputs": [],
   "source": [
    "import pandas as pd \n",
    "import numpy as np \n",
    "import matplotlib.pyplot as plt\n",
    "import torch \n",
    "import timm\n",
    "\n",
    "import torch.nn.functional as F \n",
    "from torch import nn \n",
    "from torch.utils.data import Dataset, DataLoader \n",
    "\n",
    "from skimage import io\n",
    "from sklearn.model_selection import train_test_split \n",
    "\n",
    "from tqdm import tqdm "
   ]
  },
  {
   "cell_type": "code",
   "execution_count": 164,
   "metadata": {
    "id": "TIOXkIKLWu2o"
   },
   "outputs": [],
   "source": [
    "DATA_DIR=\"/content/Computer-vision/Assignment2/Dataset/Problem-1/logo matching/Ex1/logos/\"\n",
    "BAtch_size=1\n",
    "LR=0.001\n",
    "EPOCHS=15\n",
    "DEVICE='cuda'"
   ]
  },
  {
   "cell_type": "code",
   "execution_count": 99,
   "metadata": {
    "colab": {
     "base_uri": "https://localhost:8080/"
    },
    "id": "fQNdoK8wXAe9",
    "outputId": "c9769ef7-c4aa-4b8c-b5d9-45e8a707a683"
   },
   "outputs": [
    {
     "name": "stdout",
     "output_type": "stream",
     "text": [
      "Anchor      umbro.jpg\n",
      "Positive    umbro.jpg\n",
      "Negative       hp.jpg\n",
      "Name: 4, dtype: object\n",
      "umbro.jpg\n"
     ]
    }
   ],
   "source": [
    "row=df.iloc[4]\n",
    "print(row)\n",
    "print(row.Anchor)"
   ]
  },
  {
   "cell_type": "code",
   "execution_count": 100,
   "metadata": {
    "id": "Wix6nenOXNll"
   },
   "outputs": [],
   "source": [
    "Anchor_img=io.imread(DATA_DIR+row.Anchor)\n",
    "Negative_img=io.imread(DATA_DIR+row.Negative)\n",
    "Positive_img=io.imread(DATA_DIR+row.Positive)"
   ]
  },
  {
   "cell_type": "code",
   "execution_count": 101,
   "metadata": {
    "colab": {
     "base_uri": "https://localhost:8080/",
     "height": 857
    },
    "id": "TvzJFEwzXVIe",
    "outputId": "c9f2c4d0-cdc3-47fb-d939-4fa2d89e0684"
   },
   "outputs": [
    {
     "data": {
      "image/png": "[encoded data removed]",
      "text/plain": [
       "<Figure size 432x288 with 1 Axes>"
      ]
     },
     "metadata": {
      "needs_background": "light"
     },
     "output_type": "display_data"
    },
    {
     "data": {
      "image/png": "[encoded data removed]",
      "text/plain": [
       "<Figure size 432x288 with 1 Axes>"
      ]
     },
     "metadata": {
      "needs_background": "light"
     },
     "output_type": "display_data"
    },
    {
     "data": {
      "image/png": "[encoded data removed]",
      "text/plain": [
       "<Figure size 432x288 with 1 Axes>"
      ]
     },
     "metadata": {
      "needs_background": "light"
     },
     "output_type": "display_data"
    }
   ],
   "source": [
    "io.imshow(Anchor_img)\n",
    "plt.show()\n",
    "io.imshow(Negative_img)\n",
    "plt.show()\n",
    "io.imshow(Positive_img)\n",
    "plt.show()"
   ]
  },
  {
   "cell_type": "code",
   "execution_count": 102,
   "metadata": {
    "id": "STV1FRV-YYYp"
   },
   "outputs": [],
   "source": [
    "train_df, valid_df=train_test_split(df,test_size=0.20,random_state=42)"
   ]
  },
  {
   "cell_type": "code",
   "execution_count": 103,
   "metadata": {
    "colab": {
     "base_uri": "https://localhost:8080/"
    },
    "id": "bI_Zi86jYdoW",
    "outputId": "2f9fda01-bbd1-44fb-a415-0acd2bdd7837"
   },
   "outputs": [
    {
     "data": {
      "text/plain": [
       "((8, 3), (2, 3))"
      ]
     },
     "execution_count": 103,
     "metadata": {},
     "output_type": "execute_result"
    }
   ],
   "source": [
    "train_df.shape, valid_df.shape"
   ]
  },
  {
   "cell_type": "code",
   "execution_count": 104,
   "metadata": {
    "id": "SXEx0YV9YgRd"
   },
   "outputs": [],
   "source": [
    "class APN_Dataset(Dataset):\n",
    "\n",
    "  def __init__(self,df):\n",
    "    self.df=df\n",
    "\n",
    "  def __len__(self):\n",
    "    return self.df.shape[0]\n",
    "\n",
    "  def __getitem__(self,idx):\n",
    "    row=self.df.iloc[idx]\n",
    "    A_img=io.imread(DATA_DIR+row.Anchor)\n",
    "    N_img=io.imread(DATA_DIR+row.Negative)\n",
    "    P_img=io.imread(DATA_DIR+row.Positive)\n",
    "\n",
    "    A_img=torch.from_numpy(A_img).permute(2,0,1)/255.0\n",
    "    P_img=torch.from_numpy(P_img).permute(2,0,1)/255.0\n",
    "    N_img=torch.from_numpy(N_img).permute(2,0,1)/255.0\n",
    "\n",
    "\n",
    "    return A_img, P_img, N_img\n",
    "\n",
    "  \n"
   ]
  },
  {
   "cell_type": "code",
   "execution_count": 105,
   "metadata": {
    "id": "UpJNwNkJYjlX"
   },
   "outputs": [],
   "source": [
    "trainset=APN_Dataset(train_df)\n",
    "validset=APN_Dataset(valid_df)"
   ]
  },
  {
   "cell_type": "code",
   "execution_count": 106,
   "metadata": {
    "colab": {
     "base_uri": "https://localhost:8080/"
    },
    "id": "Z4iegtrgYmlC",
    "outputId": "8a8ff42d-68a3-4ab1-fb95-cbaa7e92a728"
   },
   "outputs": [
    {
     "data": {
      "text/plain": [
       "(8, 2)"
      ]
     },
     "execution_count": 106,
     "metadata": {},
     "output_type": "execute_result"
    }
   ],
   "source": [
    "len(trainset), len(validset)"
   ]
  },
  {
   "cell_type": "code",
   "execution_count": 107,
   "metadata": {
    "colab": {
     "base_uri": "https://localhost:8080/",
     "height": 221
    },
    "id": "oP4LC7TPYpVs",
    "outputId": "30280e57-2d96-4737-cd72-805ee31c111a"
   },
   "outputs": [
    {
     "data": {
      "text/plain": [
       "<matplotlib.image.AxesImage at 0x7f3b3d2aab50>"
      ]
     },
     "execution_count": 107,
     "metadata": {},
     "output_type": "execute_result"
    },
    {
     "data": {
      "image/png": "[encoded data removed]",
      "text/plain": [
       "<Figure size 720x360 with 3 Axes>"
      ]
     },
     "metadata": {
      "needs_background": "light"
     },
     "output_type": "display_data"
    }
   ],
   "source": [
    "idx = 2\n",
    "A,P,N = trainset[idx]\n",
    "\n",
    "f, (ax1, ax2, ax3) = plt.subplots(1,3,figsize= (10,5))\n",
    "\n",
    "ax1.set_title('Anchor')\n",
    "ax1.imshow(A.numpy().transpose((1,2,0)), cmap = 'gray')\n",
    "\n",
    "ax2.set_title('Positive')\n",
    "ax2.imshow(P.numpy().transpose((1,2,0)), cmap = 'gray')\n",
    "\n",
    "ax3.set_title('Negative')\n",
    "ax3.imshow(N.numpy().transpose((1,2,0)), cmap = 'gray')"
   ]
  },
  {
   "cell_type": "code",
   "execution_count": 108,
   "metadata": {
    "id": "XqPDV7hLYsCv"
   },
   "outputs": [],
   "source": [
    "trainloader=DataLoader(trainset,batch_size=BAtch_size, shuffle=True) \n",
    "validloader=DataLoader(validset, batch_size=BAtch_size) "
   ]
  },
  {
   "cell_type": "code",
   "execution_count": 109,
   "metadata": {
    "colab": {
     "base_uri": "https://localhost:8080/"
    },
    "id": "Oy4aL4J3Y2rq",
    "outputId": "4f77a53e-550f-4eb8-cfbd-1c2e79c04ad3"
   },
   "outputs": [
    {
     "name": "stdout",
     "output_type": "stream",
     "text": [
      "No. of batches in trainloader : 8\n",
      "No. of batches in validloader : 2\n"
     ]
    }
   ],
   "source": [
    "print(f\"No. of batches in trainloader : {len(trainloader)}\")\n",
    "print(f\"No. of batches in validloader : {len(validloader)}\")"
   ]
  },
  {
   "cell_type": "code",
   "execution_count": 110,
   "metadata": {
    "colab": {
     "base_uri": "https://localhost:8080/"
    },
    "id": "CT6MRMV9Y503",
    "outputId": "83050e65-396b-4fe3-a51d-d9db2c75f552"
   },
   "outputs": [
    {
     "name": "stdout",
     "output_type": "stream",
     "text": [
      "One image batch shape : torch.Size([1, 3, 235, 300])\n"
     ]
    }
   ],
   "source": [
    "for A,P,N in trainloader:\n",
    "  break\n",
    "    \n",
    "print(f\"One image batch shape : {A.shape}\")"
   ]
  },
  {
   "cell_type": "code",
   "execution_count": 111,
   "metadata": {
    "id": "MObc1A4bY84c"
   },
   "outputs": [],
   "source": [
    "efficientnet=timm.create_model('efficientnet_b0', pretrained='True')"
   ]
  },
  {
   "cell_type": "code",
   "execution_count": 112,
   "metadata": {
    "colab": {
     "base_uri": "https://localhost:8080/"
    },
    "id": "uIbXPGsbZAKU",
    "outputId": "bb744503-b7c6-4040-ab0f-dc446ad7b2d4"
   },
   "outputs": [
    {
     "data": {
      "text/plain": [
       "Linear(in_features=1280, out_features=1000, bias=True)"
      ]
     },
     "execution_count": 112,
     "metadata": {},
     "output_type": "execute_result"
    }
   ],
   "source": [
    "efficientnet.classifier"
   ]
  },
  {
   "cell_type": "code",
   "execution_count": 113,
   "metadata": {
    "id": "q2mLlXuhZC-n"
   },
   "outputs": [],
   "source": [
    "class APN_Model(nn.Module):\n",
    "  def __init__(self,emb_size=512):\n",
    "    super(APN_Model, self).__init__()\n",
    "\n",
    "    self.efficientnet=timm.create_model('efficientnet_b0', pretrained='True')\n",
    "    self.efficientnet.classifier=nn.Linear(in_features=self.efficientnet.classifier.in_features, out_features=emb_size)\n",
    "\n",
    "  def forward(self,images):\n",
    "    embeddings=self.efficientnet(images)\n",
    "    return embeddings\n",
    "  "
   ]
  },
  {
   "cell_type": "code",
   "execution_count": 114,
   "metadata": {
    "id": "9UfQbgVQZGMQ"
   },
   "outputs": [],
   "source": [
    "model=APN_Model()\n",
    "model.to(DEVICE);"
   ]
  },
  {
   "cell_type": "code",
   "execution_count": 115,
   "metadata": {
    "id": "o3r4aC_6ZItm"
   },
   "outputs": [],
   "source": [
    "def train_fn(model, dataloader, optimizer, criterion):\n",
    "  model.train()    # ONN Dropout Layer\n",
    "  total_loss=0.0\n",
    "  for A, P, N in tqdm(dataloader):\n",
    "    A,P,N=A.to(DEVICE), P.to(DEVICE), N.to(DEVICE)\n",
    "    A_embs=model(A)\n",
    "    P_embs=model(P)\n",
    "    N_embs=model(N)\n",
    "\n",
    "    loss=criterion(A_embs,P_embs,N_embs)\n",
    "    optimizer.zero_grad()\n",
    "    loss.backward()\n",
    "    optimizer.step()\n",
    "    total_loss+=loss.item()\n",
    "  return total_loss/len(dataloader)\n"
   ]
  },
  {
   "cell_type": "code",
   "execution_count": 116,
   "metadata": {
    "id": "nulXMynHZSsf"
   },
   "outputs": [],
   "source": [
    "def eval_fn(model, dataloader, criterion):\n",
    "  model.eval()     # Off dropout layer\n",
    "  total_loss=0.0\n",
    "  for A, P, N in tqdm(dataloader):\n",
    "    A,P,N=A.to(DEVICE), P.to(DEVICE), N.to(DEVICE)\n",
    "\n",
    "    A_embs=model(A)\n",
    "    P_embs=model(P)\n",
    "    N_embs=model(N)\n",
    "    loss=criterion(A_embs,P_embs,N_embs)\n",
    "    total_loss+=loss.item()\n",
    "  \n",
    "  return total_loss\n"
   ]
  },
  {
   "cell_type": "code",
   "execution_count": 117,
   "metadata": {
    "id": "AfWbDm9LZVrC"
   },
   "outputs": [],
   "source": [
    "criterion=nn.TripletMarginLoss()\n",
    "optimizer=torch.optim.Adam(model.parameters(), lr=LR)"
   ]
  },
  {
   "cell_type": "code",
   "execution_count": 118,
   "metadata": {
    "colab": {
     "base_uri": "https://localhost:8080/"
    },
    "id": "lIIVXDroZYT8",
    "outputId": "2efbae9f-99f0-4ae9-8250-a6df750bd66c"
   },
   "outputs": [
    {
     "name": "stderr",
     "output_type": "stream",
     "text": [
      "100%|██████████| 8/8 [00:01<00:00,  6.44it/s]\n",
      "100%|██████████| 2/2 [00:00<00:00, 17.48it/s]\n"
     ]
    },
    {
     "name": "stdout",
     "output_type": "stream",
     "text": [
      "Saved_weight_success\n",
      "Epochs : 1 train_loss : 0.2646627277135849 valid_loss : 0.0\n"
     ]
    },
    {
     "name": "stderr",
     "output_type": "stream",
     "text": [
      "100%|██████████| 8/8 [00:01<00:00,  7.32it/s]\n",
      "100%|██████████| 2/2 [00:00<00:00, 17.20it/s]\n"
     ]
    },
    {
     "name": "stdout",
     "output_type": "stream",
     "text": [
      "Epochs : 2 train_loss : 0.25 valid_loss : 0.0\n"
     ]
    },
    {
     "name": "stderr",
     "output_type": "stream",
     "text": [
      "100%|██████████| 8/8 [00:01<00:00,  7.28it/s]\n",
      "100%|██████████| 2/2 [00:00<00:00, 16.91it/s]\n"
     ]
    },
    {
     "name": "stdout",
     "output_type": "stream",
     "text": [
      "Epochs : 3 train_loss : 0.25 valid_loss : 0.0\n"
     ]
    },
    {
     "name": "stderr",
     "output_type": "stream",
     "text": [
      "100%|██████████| 8/8 [00:01<00:00,  7.25it/s]\n",
      "100%|██████████| 2/2 [00:00<00:00, 17.25it/s]\n"
     ]
    },
    {
     "name": "stdout",
     "output_type": "stream",
     "text": [
      "Epochs : 4 train_loss : 0.25 valid_loss : 0.0\n"
     ]
    },
    {
     "name": "stderr",
     "output_type": "stream",
     "text": [
      "100%|██████████| 8/8 [00:01<00:00,  7.31it/s]\n",
      "100%|██████████| 2/2 [00:00<00:00, 17.19it/s]\n"
     ]
    },
    {
     "name": "stdout",
     "output_type": "stream",
     "text": [
      "Epochs : 5 train_loss : 0.25 valid_loss : 0.0\n"
     ]
    },
    {
     "name": "stderr",
     "output_type": "stream",
     "text": [
      "100%|██████████| 8/8 [00:01<00:00,  5.58it/s]\n",
      "100%|██████████| 2/2 [00:00<00:00, 12.99it/s]\n"
     ]
    },
    {
     "name": "stdout",
     "output_type": "stream",
     "text": [
      "Epochs : 6 train_loss : 0.25 valid_loss : 0.0\n"
     ]
    },
    {
     "name": "stderr",
     "output_type": "stream",
     "text": [
      "100%|██████████| 8/8 [00:01<00:00,  5.10it/s]\n",
      "100%|██████████| 2/2 [00:00<00:00, 13.33it/s]\n"
     ]
    },
    {
     "name": "stdout",
     "output_type": "stream",
     "text": [
      "Epochs : 7 train_loss : 0.25 valid_loss : 0.0\n"
     ]
    },
    {
     "name": "stderr",
     "output_type": "stream",
     "text": [
      "100%|██████████| 8/8 [00:01<00:00,  7.39it/s]\n",
      "100%|██████████| 2/2 [00:00<00:00, 17.91it/s]\n"
     ]
    },
    {
     "name": "stdout",
     "output_type": "stream",
     "text": [
      "Epochs : 8 train_loss : 0.25 valid_loss : 0.0\n"
     ]
    },
    {
     "name": "stderr",
     "output_type": "stream",
     "text": [
      "100%|██████████| 8/8 [00:01<00:00,  7.35it/s]\n",
      "100%|██████████| 2/2 [00:00<00:00, 18.04it/s]\n"
     ]
    },
    {
     "name": "stdout",
     "output_type": "stream",
     "text": [
      "Epochs : 9 train_loss : 0.25 valid_loss : 0.0\n"
     ]
    },
    {
     "name": "stderr",
     "output_type": "stream",
     "text": [
      "100%|██████████| 8/8 [00:01<00:00,  7.37it/s]\n",
      "100%|██████████| 2/2 [00:00<00:00, 18.24it/s]\n"
     ]
    },
    {
     "name": "stdout",
     "output_type": "stream",
     "text": [
      "Epochs : 10 train_loss : 0.25 valid_loss : 0.0\n"
     ]
    },
    {
     "name": "stderr",
     "output_type": "stream",
     "text": [
      "100%|██████████| 8/8 [00:01<00:00,  7.29it/s]\n",
      "100%|██████████| 2/2 [00:00<00:00, 17.79it/s]\n"
     ]
    },
    {
     "name": "stdout",
     "output_type": "stream",
     "text": [
      "Epochs : 11 train_loss : 0.25 valid_loss : 0.0\n"
     ]
    },
    {
     "name": "stderr",
     "output_type": "stream",
     "text": [
      "100%|██████████| 8/8 [00:01<00:00,  7.39it/s]\n",
      "100%|██████████| 2/2 [00:00<00:00, 15.85it/s]\n"
     ]
    },
    {
     "name": "stdout",
     "output_type": "stream",
     "text": [
      "Epochs : 12 train_loss : 0.25 valid_loss : 0.0\n"
     ]
    },
    {
     "name": "stderr",
     "output_type": "stream",
     "text": [
      "100%|██████████| 8/8 [00:01<00:00,  7.12it/s]\n",
      "100%|██████████| 2/2 [00:00<00:00, 16.36it/s]\n"
     ]
    },
    {
     "name": "stdout",
     "output_type": "stream",
     "text": [
      "Epochs : 13 train_loss : 0.25 valid_loss : 0.0\n"
     ]
    },
    {
     "name": "stderr",
     "output_type": "stream",
     "text": [
      "100%|██████████| 8/8 [00:01<00:00,  7.35it/s]\n",
      "100%|██████████| 2/2 [00:00<00:00, 16.96it/s]\n"
     ]
    },
    {
     "name": "stdout",
     "output_type": "stream",
     "text": [
      "Epochs : 14 train_loss : 0.25 valid_loss : 0.0\n"
     ]
    },
    {
     "name": "stderr",
     "output_type": "stream",
     "text": [
      "100%|██████████| 8/8 [00:02<00:00,  3.22it/s]\n",
      "100%|██████████| 2/2 [00:00<00:00,  3.90it/s]"
     ]
    },
    {
     "name": "stdout",
     "output_type": "stream",
     "text": [
      "Epochs : 15 train_loss : 0.25 valid_loss : 0.0\n"
     ]
    },
    {
     "name": "stderr",
     "output_type": "stream",
     "text": [
      "\n"
     ]
    }
   ],
   "source": [
    "best_valid_loss=np.Inf\n",
    "for i in range (EPOCHS):\n",
    "  train_loss=train_fn(model,trainloader,optimizer,criterion) \n",
    "  valid_loss=eval_fn(model,validloader, criterion)\n",
    "\n",
    "  if valid_loss < best_valid_loss:\n",
    "    torch.save(model.state_dict(), 'best_model.pt')\n",
    "    best_valid_loss=valid_loss\n",
    "    print(\"Saved_weight_success\")\n",
    "  print(f\"Epochs : {i+1} train_loss : {train_loss} valid_loss : {valid_loss}\")"
   ]
  },
  {
   "cell_type": "code",
   "execution_count": 119,
   "metadata": {
    "id": "EBDLr10mZbtn"
   },
   "outputs": [],
   "source": [
    "def get_encoding_csv(model,anc_img_names):\n",
    "  anc_img_names_arr=np.array(anc_img_names)\n",
    "  encodings=[]\n",
    "  model.eval()    #because no dropout layer\n",
    "  with torch.no_grad():\n",
    "    for i in tqdm(anc_img_names_arr):\n",
    "      A=io.imread(DATA_DIR+i)\n",
    "      A=torch.from_numpy(A).permute(2,0,1) /255.0\n",
    "      A=A.to(DEVICE)\n",
    "\n",
    "      A_enc=model(A.unsqueeze(0))      #(c,w,h)   --> (b,c,w,h)\n",
    "      encodings.append(A_enc.squeeze().cpu().detach().numpy())\n",
    "    encodings=np.array(encodings)\n",
    "    encodings=pd.DataFrame(encodings)\n",
    "    df_enc=pd.concat([anc_img_names, encodings], axis=1)\n",
    "  \n",
    "  return df_enc\n"
   ]
  },
  {
   "cell_type": "code",
   "execution_count": 120,
   "metadata": {
    "colab": {
     "base_uri": "https://localhost:8080/"
    },
    "id": "NuvtnwgMZpJB",
    "outputId": "b7d23276-68b5-4aa2-8c4b-cc0ab47974e2"
   },
   "outputs": [
    {
     "name": "stderr",
     "output_type": "stream",
     "text": [
      "100%|██████████| 10/10 [00:00<00:00, 19.21it/s]\n"
     ]
    }
   ],
   "source": [
    "model.load_state_dict(torch.load('best_model.pt'))\n",
    "df_enc=get_encoding_csv(model, df['Anchor'])"
   ]
  },
  {
   "cell_type": "code",
   "execution_count": 121,
   "metadata": {
    "colab": {
     "base_uri": "https://localhost:8080/",
     "height": 300
    },
    "id": "wso--CPnZr7v",
    "outputId": "9b940f57-d055-4025-c1a7-1da147798eb1"
   },
   "outputs": [
    {
     "data": {
      "text/html": [
       "\n",
       "  <div id=\"df-cf3730f8-1c46-4f00-a322-d0b6999f1720\">\n",
       "    <div class=\"colab-df-container\">\n",
       "      <div>\n",
       "<style scoped>\n",
       "    .dataframe tbody tr th:only-of-type {\n",
       "        vertical-align: middle;\n",
       "    }\n",
       "\n",
       "    .dataframe tbody tr th {\n",
       "        vertical-align: top;\n",
       "    }\n",
       "\n",
       "    .dataframe thead th {\n",
       "        text-align: right;\n",
       "    }\n",
       "</style>\n",
       "<table border=\"1\" class=\"dataframe\">\n",
       "  <thead>\n",
       "    <tr style=\"text-align: right;\">\n",
       "      <th></th>\n",
       "      <th>Anchor</th>\n",
       "      <th>0</th>\n",
       "      <th>1</th>\n",
       "      <th>2</th>\n",
       "      <th>3</th>\n",
       "      <th>4</th>\n",
       "      <th>5</th>\n",
       "      <th>6</th>\n",
       "      <th>7</th>\n",
       "      <th>8</th>\n",
       "      <th>...</th>\n",
       "      <th>502</th>\n",
       "      <th>503</th>\n",
       "      <th>504</th>\n",
       "      <th>505</th>\n",
       "      <th>506</th>\n",
       "      <th>507</th>\n",
       "      <th>508</th>\n",
       "      <th>509</th>\n",
       "      <th>510</th>\n",
       "      <th>511</th>\n",
       "    </tr>\n",
       "  </thead>\n",
       "  <tbody>\n",
       "    <tr>\n",
       "      <th>0</th>\n",
       "      <td>levis.jpg</td>\n",
       "      <td>0.054582</td>\n",
       "      <td>-0.023506</td>\n",
       "      <td>0.075289</td>\n",
       "      <td>0.336178</td>\n",
       "      <td>-0.108397</td>\n",
       "      <td>0.077934</td>\n",
       "      <td>-0.082586</td>\n",
       "      <td>0.148105</td>\n",
       "      <td>0.209761</td>\n",
       "      <td>...</td>\n",
       "      <td>0.039300</td>\n",
       "      <td>0.381306</td>\n",
       "      <td>0.075778</td>\n",
       "      <td>-0.000748</td>\n",
       "      <td>-0.098863</td>\n",
       "      <td>0.326707</td>\n",
       "      <td>0.001172</td>\n",
       "      <td>0.127031</td>\n",
       "      <td>0.250290</td>\n",
       "      <td>0.035532</td>\n",
       "    </tr>\n",
       "    <tr>\n",
       "      <th>1</th>\n",
       "      <td>kfc.jpg</td>\n",
       "      <td>0.152218</td>\n",
       "      <td>0.051201</td>\n",
       "      <td>0.229096</td>\n",
       "      <td>0.358346</td>\n",
       "      <td>0.059592</td>\n",
       "      <td>0.034083</td>\n",
       "      <td>0.133228</td>\n",
       "      <td>-0.005812</td>\n",
       "      <td>-0.274361</td>\n",
       "      <td>...</td>\n",
       "      <td>0.093090</td>\n",
       "      <td>0.025715</td>\n",
       "      <td>0.067884</td>\n",
       "      <td>-0.264099</td>\n",
       "      <td>-0.027137</td>\n",
       "      <td>0.060716</td>\n",
       "      <td>0.199061</td>\n",
       "      <td>-0.072931</td>\n",
       "      <td>-0.290178</td>\n",
       "      <td>0.401134</td>\n",
       "    </tr>\n",
       "    <tr>\n",
       "      <th>2</th>\n",
       "      <td>nescafe.jpg</td>\n",
       "      <td>-0.268425</td>\n",
       "      <td>-0.155616</td>\n",
       "      <td>0.131180</td>\n",
       "      <td>0.134234</td>\n",
       "      <td>-0.142998</td>\n",
       "      <td>0.136326</td>\n",
       "      <td>0.152654</td>\n",
       "      <td>-0.193265</td>\n",
       "      <td>-0.189773</td>\n",
       "      <td>...</td>\n",
       "      <td>0.246730</td>\n",
       "      <td>0.222121</td>\n",
       "      <td>-0.004342</td>\n",
       "      <td>0.052366</td>\n",
       "      <td>0.029897</td>\n",
       "      <td>0.108717</td>\n",
       "      <td>0.172151</td>\n",
       "      <td>-0.104968</td>\n",
       "      <td>0.179180</td>\n",
       "      <td>-0.283966</td>\n",
       "    </tr>\n",
       "    <tr>\n",
       "      <th>3</th>\n",
       "      <td>tacobell.jpg</td>\n",
       "      <td>0.266034</td>\n",
       "      <td>0.417792</td>\n",
       "      <td>0.129625</td>\n",
       "      <td>0.285488</td>\n",
       "      <td>-0.125398</td>\n",
       "      <td>0.111235</td>\n",
       "      <td>0.157757</td>\n",
       "      <td>0.171789</td>\n",
       "      <td>-0.594135</td>\n",
       "      <td>...</td>\n",
       "      <td>0.107861</td>\n",
       "      <td>0.266955</td>\n",
       "      <td>0.128490</td>\n",
       "      <td>-0.063040</td>\n",
       "      <td>-0.101785</td>\n",
       "      <td>-0.346523</td>\n",
       "      <td>-0.018004</td>\n",
       "      <td>-0.002551</td>\n",
       "      <td>0.139880</td>\n",
       "      <td>0.002158</td>\n",
       "    </tr>\n",
       "    <tr>\n",
       "      <th>4</th>\n",
       "      <td>umbro.jpg</td>\n",
       "      <td>-0.036049</td>\n",
       "      <td>-0.317306</td>\n",
       "      <td>0.021199</td>\n",
       "      <td>0.286102</td>\n",
       "      <td>-0.260020</td>\n",
       "      <td>-0.167488</td>\n",
       "      <td>0.148945</td>\n",
       "      <td>0.149518</td>\n",
       "      <td>-0.106244</td>\n",
       "      <td>...</td>\n",
       "      <td>0.273960</td>\n",
       "      <td>0.104168</td>\n",
       "      <td>0.065747</td>\n",
       "      <td>0.178784</td>\n",
       "      <td>0.086480</td>\n",
       "      <td>-0.096753</td>\n",
       "      <td>0.085686</td>\n",
       "      <td>-0.031083</td>\n",
       "      <td>0.130439</td>\n",
       "      <td>0.075982</td>\n",
       "    </tr>\n",
       "  </tbody>\n",
       "</table>\n",
       "<p>5 rows × 513 columns</p>\n",
       "</div>\n",
       "      <button class=\"colab-df-convert\" onclick=\"convertToInteractive('df-cf3730f8-1c46-4f00-a322-d0b6999f1720')\"\n",
       "              title=\"Convert this dataframe to an interactive table.\"\n",
       "              style=\"display:none;\">\n",
       "        \n",
       "  <svg xmlns=\"http://www.w3.org/2000/svg\" height=\"24px\"viewBox=\"0 0 24 24\"\n",
       "       width=\"24px\">\n",
       "    <path d=\"M0 0h24v24H0V0z\" fill=\"none\"/>\n",
       "    <path d=\"M18.56 5.44l.94 2.06.94-2.06 2.06-.94-2.06-.94-.94-2.06-.94 2.06-2.06.94zm-11 1L8.5 8.5l.94-2.06 2.06-.94-2.06-.94L8.5 2.5l-.94 2.06-2.06.94zm10 10l.94 2.06.94-2.06 2.06-.94-2.06-.94-.94-2.06-.94 2.06-2.06.94z\"/><path d=\"M17.41 7.96l-1.37-1.37c-.4-.4-.92-.59-1.43-.59-.52 0-1.04.2-1.43.59L10.3 9.45l-7.72 7.72c-.78.78-.78 2.05 0 2.83L4 21.41c.39.39.9.59 1.41.59.51 0 1.02-.2 1.41-.59l7.78-7.78 2.81-2.81c.8-.78.8-2.07 0-2.86zM5.41 20L4 18.59l7.72-7.72 1.47 1.35L5.41 20z\"/>\n",
       "  </svg>\n",
       "      </button>\n",
       "      \n",
       "  <style>\n",
       "    .colab-df-container {\n",
       "      display:flex;\n",
       "      flex-wrap:wrap;\n",
       "      gap: 12px;\n",
       "    }\n",
       "\n",
       "    .colab-df-convert {\n",
       "      background-color: #E8F0FE;\n",
       "      border: none;\n",
       "      border-radius: 50%;\n",
       "      cursor: pointer;\n",
       "      display: none;\n",
       "      fill: #1967D2;\n",
       "      height: 32px;\n",
       "      padding: 0 0 0 0;\n",
       "      width: 32px;\n",
       "    }\n",
       "\n",
       "    .colab-df-convert:hover {\n",
       "      background-color: #E2EBFA;\n",
       "      box-shadow: 0px 1px 2px rgba(60, 64, 67, 0.3), 0px 1px 3px 1px rgba(60, 64, 67, 0.15);\n",
       "      fill: #174EA6;\n",
       "    }\n",
       "\n",
       "    [theme=dark] .colab-df-convert {\n",
       "      background-color: #3B4455;\n",
       "      fill: #D2E3FC;\n",
       "    }\n",
       "\n",
       "    [theme=dark] .colab-df-convert:hover {\n",
       "      background-color: #434B5C;\n",
       "      box-shadow: 0px 1px 3px 1px rgba(0, 0, 0, 0.15);\n",
       "      filter: drop-shadow(0px 1px 2px rgba(0, 0, 0, 0.3));\n",
       "      fill: #FFFFFF;\n",
       "    }\n",
       "  </style>\n",
       "\n",
       "      <script>\n",
       "        const buttonEl =\n",
       "          document.querySelector('#df-cf3730f8-1c46-4f00-a322-d0b6999f1720 button.colab-df-convert');\n",
       "        buttonEl.style.display =\n",
       "          google.colab.kernel.accessAllowed ? 'block' : 'none';\n",
       "\n",
       "        async function convertToInteractive(key) {\n",
       "          const element = document.querySelector('#df-cf3730f8-1c46-4f00-a322-d0b6999f1720');\n",
       "          const dataTable =\n",
       "            await google.colab.kernel.invokeFunction('convertToInteractive',\n",
       "                                                     [key], {});\n",
       "          if (!dataTable) return;\n",
       "\n",
       "          const docLinkHtml = 'Like what you see? Visit the ' +\n",
       "            '<a target=\"_blank\" href=https://colab.research.google.com/notebooks/data_table.ipynb>data table notebook</a>'\n",
       "            + ' to learn more about interactive tables.';\n",
       "          element.innerHTML = '';\n",
       "          dataTable['output_type'] = 'display_data';\n",
       "          await google.colab.output.renderOutput(dataTable, element);\n",
       "          const docLink = document.createElement('div');\n",
       "          docLink.innerHTML = docLinkHtml;\n",
       "          element.appendChild(docLink);\n",
       "        }\n",
       "      </script>\n",
       "    </div>\n",
       "  </div>\n",
       "  "
      ],
      "text/plain": [
       "         Anchor         0         1         2         3         4         5  \\\n",
       "0     levis.jpg  0.054582 -0.023506  0.075289  0.336178 -0.108397  0.077934   \n",
       "1       kfc.jpg  0.152218  0.051201  0.229096  0.358346  0.059592  0.034083   \n",
       "2   nescafe.jpg -0.268425 -0.155616  0.131180  0.134234 -0.142998  0.136326   \n",
       "3  tacobell.jpg  0.266034  0.417792  0.129625  0.285488 -0.125398  0.111235   \n",
       "4     umbro.jpg -0.036049 -0.317306  0.021199  0.286102 -0.260020 -0.167488   \n",
       "\n",
       "          6         7         8  ...       502       503       504       505  \\\n",
       "0 -0.082586  0.148105  0.209761  ...  0.039300  0.381306  0.075778 -0.000748   \n",
       "1  0.133228 -0.005812 -0.274361  ...  0.093090  0.025715  0.067884 -0.264099   \n",
       "2  0.152654 -0.193265 -0.189773  ...  0.246730  0.222121 -0.004342  0.052366   \n",
       "3  0.157757  0.171789 -0.594135  ...  0.107861  0.266955  0.128490 -0.063040   \n",
       "4  0.148945  0.149518 -0.106244  ...  0.273960  0.104168  0.065747  0.178784   \n",
       "\n",
       "        506       507       508       509       510       511  \n",
       "0 -0.098863  0.326707  0.001172  0.127031  0.250290  0.035532  \n",
       "1 -0.027137  0.060716  0.199061 -0.072931 -0.290178  0.401134  \n",
       "2  0.029897  0.108717  0.172151 -0.104968  0.179180 -0.283966  \n",
       "3 -0.101785 -0.346523 -0.018004 -0.002551  0.139880  0.002158  \n",
       "4  0.086480 -0.096753  0.085686 -0.031083  0.130439  0.075982  \n",
       "\n",
       "[5 rows x 513 columns]"
      ]
     },
     "execution_count": 121,
     "metadata": {},
     "output_type": "execute_result"
    }
   ],
   "source": [
    "df_enc.to_csv('database.csv', index=False)\n",
    "df_enc.head()"
   ]
  },
  {
   "cell_type": "code",
   "execution_count": 122,
   "metadata": {
    "id": "cZgWMPLoZuwl"
   },
   "outputs": [],
   "source": [
    "def euclidean_dist(img_enc, anc_enc_arr):\n",
    "  dist=np.sqrt(np.dot(img_enc-anc_enc_arr,(img_enc-anc_enc_arr).T))\n",
    "  return dist"
   ]
  },
  {
   "cell_type": "code",
   "execution_count": 292,
   "metadata": {
    "id": "mKbrTP1LZzev"
   },
   "outputs": [],
   "source": [
    "idx=2\n",
    "img_name=df_enc['Anchor'].iloc[idx]\n",
    "img_path=DATA_DIR+  img_name\n",
    "\n",
    "#img=io.imread(\"/content/Computer-vision/Assignment2/Dataset/Problem-1/logo matching/Ex1/levis1.jpg\")\n",
    "img=io.imread(img_path)\n",
    "img=torch.from_numpy(img).permute(2,0,1) / 255.0\n",
    "model.eval()\n",
    "\n",
    "with torch.no_grad():\n",
    "  img=img.to(DEVICE)\n",
    "  img_enc=model(img.unsqueeze(0))\n",
    "  img_enc=img_enc.detach().cpu().numpy()\n",
    "  "
   ]
  },
  {
   "cell_type": "code",
   "execution_count": 293,
   "metadata": {
    "id": "0hBIDD74hqfv"
   },
   "outputs": [],
   "source": [
    "# c= df_enc.iloc[:,1:]\n",
    "# print(c)\n",
    "# print(c[0])\n",
    "# print(c[0][0])\n",
    "# print(c[0][1])"
   ]
  },
  {
   "cell_type": "code",
   "execution_count": 299,
   "metadata": {
    "id": "R5_lZ0VOZ5Gh"
   },
   "outputs": [],
   "source": [
    "# encoding for the anchor image\n",
    "anc_enc_arr=df_enc.iloc[:,1:].to_numpy()\n",
    "# Anchor image names\n",
    "anc_img_names=df_enc['Anchor']\n",
    "\n",
    "#anc_enc_arr.shape"
   ]
  },
  {
   "cell_type": "code",
   "execution_count": 300,
   "metadata": {
    "id": "EpARwQ9fZ79z"
   },
   "outputs": [],
   "source": [
    "distance=[]\n",
    "for i in range(anc_enc_arr.shape[0]):\n",
    "  dist=euclidean_dist(img_enc, anc_enc_arr[i: i+1, :])\n",
    "  distance=np.append(distance,dist)\n",
    "\n"
   ]
  },
  {
   "cell_type": "code",
   "execution_count": 301,
   "metadata": {
    "colab": {
     "base_uri": "https://localhost:8080/"
    },
    "id": "IBpywpDZ3IDR",
    "outputId": "2912983f-cfa0-4d8a-9e88-5a4bfe490fc2"
   },
   "outputs": [
    {
     "data": {
      "text/plain": [
       "0            levis.jpg\n",
       "1              kfc.jpg\n",
       "2          nescafe.jpg\n",
       "3         tacobell.jpg\n",
       "4            umbro.jpg\n",
       "5               lg.jpg\n",
       "6            shell.jpg\n",
       "7             spar.jpg\n",
       "8               hp.jpg\n",
       "9    tommyhilfiger.jpg\n",
       "Name: Anchor, dtype: object"
      ]
     },
     "execution_count": 301,
     "metadata": {},
     "output_type": "execute_result"
    }
   ],
   "source": [
    "anc_img_names"
   ]
  },
  {
   "cell_type": "code",
   "execution_count": 296,
   "metadata": {
    "colab": {
     "base_uri": "https://localhost:8080/"
    },
    "id": "zF1pa-VzZ-ii",
    "outputId": "9ba41d07-f6c0-4af6-db90-70032ddf3265"
   },
   "outputs": [
    {
     "name": "stdout",
     "output_type": "stream",
     "text": [
      "[4.44400692 5.32357788 0.         4.9572649  4.47411728 4.3961792\n",
      " 4.54507351 4.03387976 4.12198353 4.07293558]\n"
     ]
    }
   ],
   "source": [
    "print(distance)"
   ]
  }
 ],
 "metadata": {
  "accelerator": "GPU",
  "colab": {
   "provenance": []
  },
  "gpuClass": "standard",
  "kernelspec": {
   "display_name": "Python 3 (ipykernel)",
   "language": "python",
   "name": "python3"
  },
  "language_info": {
   "codemirror_mode": {
    "name": "ipython",
    "version": 3
   },
   "file_extension": ".py",
   "mimetype": "text/x-python",
   "name": "python",
   "nbconvert_exporter": "python",
   "pygments_lexer": "ipython3",
   "version": "3.9.13"
  }
 },
 "nbformat": 4,
 "nbformat_minor": 1
}
